{
 "cells": [
  {
   "cell_type": "markdown",
   "metadata": {
    "id": "TSfQb_3w9CP3",
    "tags": []
   },
   "source": [
    "# Assignment 2: Programming I\n",
    "\n",
    "Please read the tasks description carefully and implement **only** what the tasks wants you to implement. Follow the instructions from the task description. There might be tasks that require you to write things you would do differently **but** you have to stay with the description. The test cases below each input cell is the gold standard. For this assignment, you do not need any error handling, you can assume that all input to your function will be valid.\n",
    "\n",
    "In this or any other assignment, using `print()` is encouraged to test your implementation but is is **never** required to use it. If your function has to **return** something, use the `return` statement. A `print()` is **not** a `return`&mdash;please make sure you understand this differentiation, it is important.\n",
    "\n",
    "Try to implement the tasks yourself or in a small team. If you blindly copy a solution from the internet or other students, you will not learn anything from it. Understand the solution! This takes practice.\n",
    "\n",
    "_Hint: If the test case succeeds, delete your solution and redo it the next day._\n",
    "\n",
    "Do not modify the _test cells_, by doing so you cheat your solution, which is not helpful for your learning process."
   ]
  },
  {
   "cell_type": "markdown",
   "metadata": {
    "id": "7Q0Qeuj69RbV"
   },
   "source": [
    "## Task 1\n",
    "\n",
    "Write a `for` loop that creates a `string` containing all numbers from `1` (inclusive) to `50` (exclusive) without spaces inbetween.\n",
    "\n",
    "The first five characters of the resulting string are `12345`. (All numbers from 1 to 5.)\n",
    "\n",
    "The result must be stored in a variable with the name `solution1`.\n",
    "\n",
    "_Hint: Use the [`range()`](https://docs.python.org/3/library/stdtypes.html#range) function and have a look in the lecture material (or the python documentation) how to concatenate strings._"
   ]
  },
  {
   "cell_type": "code",
   "execution_count": 71,
   "metadata": {
    "executionInfo": {
     "elapsed": 343,
     "status": "ok",
     "timestamp": 1632322011360,
     "user": {
      "displayName": "Bernhard Bermeitinger",
      "photoUrl": "https://lh3.googleusercontent.com/a-/AOh14GivXxt0TLtU4UXyER4_cY1H5s03j1oHP80xcb4=s64",
      "userId": "00323182743818884824"
     },
     "user_tz": -120
    },
    "id": "b9kbIA0A9QLT"
   },
   "outputs": [],
   "source": [
    "# Add your code here:\n",
    "solution1=\"\"\n",
    "for i in range (1,50):\n",
    "    solution1 += str(i)\n",
    "### BEGIN SOLUTION\n",
    "\n",
    "\n",
    "\n",
    "### END SOLUTION"
   ]
  },
  {
   "cell_type": "code",
   "execution_count": 73,
   "metadata": {
    "colab": {
     "base_uri": "https://localhost:8080/"
    },
    "executionInfo": {
     "elapsed": 221,
     "status": "ok",
     "timestamp": 1632322048130,
     "user": {
      "displayName": "Bernhard Bermeitinger",
      "photoUrl": "https://lh3.googleusercontent.com/a-/AOh14GivXxt0TLtU4UXyER4_cY1H5s03j1oHP80xcb4=s64",
      "userId": "00323182743818884824"
     },
     "user_tz": -120
    },
    "id": "tWTJDI8F-T4R",
    "outputId": "9b1cd881-c6ae-4fe7-9c78-cd07a6a12ea5"
   },
   "outputs": [
    {
     "name": "stdout",
     "output_type": "stream",
     "text": [
      "\n",
      "\u001b[37;42;2m  Success! Your code works as intended.  \u001b[0m\n",
      "\n"
     ]
    }
   ],
   "source": [
    "# Test Cell. Do not modify!\n",
    "from unittest import TestCase\n",
    "test_case = TestCase()\n",
    "\n",
    "# Sanity check\n",
    "test_case.assertTrue('solution1' in locals(), msg='You must define the variable `solution1`.')\n",
    "test_case.assertIsInstance(solution1, str, msg='`solution1` must be a string.')\n",
    "test_case.assertTrue(len(solution1) > 0, msg='`solution1` does not contain any character.')\n",
    "\n",
    "# Common Mistakes\n",
    "test_case.assertFalse(solution1[0] == \"0\", msg=\"Your string starts wrongly with `0`.\")\n",
    "test_case.assertEqual(solution1[0], \"1\", msg=\"Your string must start with `1`.\")\n",
    "\n",
    "# Check if correct:\n",
    "test_case.assertEqual(\n",
    "    solution1,\n",
    "    '12345678910111213141516171819202122232425262728293031323334353637383940414243444546474849',\n",
    "    msg='Your string is not the same as the expected one.'\n",
    ")\n",
    "\n",
    "\n",
    "print(\"\\n\\033[37;42;2m  Success! Your code works as intended.  \\033[0m\\n\")"
   ]
  },
  {
   "cell_type": "markdown",
   "metadata": {
    "id": "9liLg1iy-hPC"
   },
   "source": [
    "## Task 2\n",
    "\n",
    "Write a `for` loop that creates a string containing all `even` numbers from `1` (inclusive) to `50` (exclusive) without spaces inbetween.\n",
    "\n",
    "The first five characters of the resulting string are `246810`. (The even numbers 2, 4, 6, 8, 10.)\n",
    "\n",
    "The result must be stored in a variable with the name `solution2`.\n",
    "\n",
    "_Hint: Use the [`range()`](https://docs.python.org/3/library/stdtypes.html#range) function. Check the possible parameters for this function so you can solve if without using the modulo operator._"
   ]
  },
  {
   "cell_type": "code",
   "execution_count": 82,
   "metadata": {
    "executionInfo": {
     "elapsed": 212,
     "status": "ok",
     "timestamp": 1632322199223,
     "user": {
      "displayName": "Bernhard Bermeitinger",
      "photoUrl": "https://lh3.googleusercontent.com/a-/AOh14GivXxt0TLtU4UXyER4_cY1H5s03j1oHP80xcb4=s64",
      "userId": "00323182743818884824"
     },
     "user_tz": -120
    },
    "id": "zUFRQa3z-av6"
   },
   "outputs": [],
   "source": [
    "# Add your code here:\n",
    "solution2=\"\"\n",
    "for i in range (2,50,2):\n",
    "    solution2+=solution2+str(i)\n",
    "### BEGIN SOLUTION\n",
    "\n",
    "\n",
    "\n",
    "### END SOLUTION"
   ]
  },
  {
   "cell_type": "code",
   "execution_count": 84,
   "metadata": {
    "colab": {
     "base_uri": "https://localhost:8080/"
    },
    "executionInfo": {
     "elapsed": 232,
     "status": "ok",
     "timestamp": 1632322249121,
     "user": {
      "displayName": "Bernhard Bermeitinger",
      "photoUrl": "https://lh3.googleusercontent.com/a-/AOh14GivXxt0TLtU4UXyER4_cY1H5s03j1oHP80xcb4=s64",
      "userId": "00323182743818884824"
     },
     "user_tz": -120
    },
    "id": "jormUz77-4kM",
    "outputId": "ae1920e8-ec77-44fc-f4a2-112b86c4de55"
   },
   "outputs": [
    {
     "ename": "AssertionError",
     "evalue": "'224224622422468224224622422468102242246224[17825744 chars]4648' != '24681012141618202224262830323436384042444648' : Your string is not the same as the expected one.",
     "output_type": "error",
     "traceback": [
      "\u001b[0;31m---------------------------------------------------------------------------\u001b[0m",
      "\u001b[0;31mAssertionError\u001b[0m                            Traceback (most recent call last)",
      "Cell \u001b[0;32mIn[84], line 15\u001b[0m\n\u001b[1;32m     12\u001b[0m test_case\u001b[38;5;241m.\u001b[39massertEqual(solution2[\u001b[38;5;241m0\u001b[39m], \u001b[38;5;124m\"\u001b[39m\u001b[38;5;124m2\u001b[39m\u001b[38;5;124m\"\u001b[39m, msg\u001b[38;5;241m=\u001b[39m\u001b[38;5;124m\"\u001b[39m\u001b[38;5;124mYour string must start with `2`.\u001b[39m\u001b[38;5;124m\"\u001b[39m)\n\u001b[1;32m     14\u001b[0m \u001b[38;5;66;03m# Check if correct:\u001b[39;00m\n\u001b[0;32m---> 15\u001b[0m test_case\u001b[38;5;241m.\u001b[39massertEqual(\n\u001b[1;32m     16\u001b[0m     solution2,\n\u001b[1;32m     17\u001b[0m     \u001b[38;5;124m'\u001b[39m\u001b[38;5;124m24681012141618202224262830323436384042444648\u001b[39m\u001b[38;5;124m'\u001b[39m,\n\u001b[1;32m     18\u001b[0m     msg\u001b[38;5;241m=\u001b[39m\u001b[38;5;124m'\u001b[39m\u001b[38;5;124mYour string is not the same as the expected one.\u001b[39m\u001b[38;5;124m'\u001b[39m\n\u001b[1;32m     19\u001b[0m )\n\u001b[1;32m     22\u001b[0m \u001b[38;5;28mprint\u001b[39m(\u001b[38;5;124m\"\u001b[39m\u001b[38;5;130;01m\\n\u001b[39;00m\u001b[38;5;130;01m\\033\u001b[39;00m\u001b[38;5;124m[37;42;2m  Success! Your code works as intended.  \u001b[39m\u001b[38;5;130;01m\\033\u001b[39;00m\u001b[38;5;124m[0m\u001b[39m\u001b[38;5;130;01m\\n\u001b[39;00m\u001b[38;5;124m\"\u001b[39m)\n",
      "File \u001b[0;32m/opt/anaconda3/lib/python3.12/unittest/case.py:885\u001b[0m, in \u001b[0;36mTestCase.assertEqual\u001b[0;34m(self, first, second, msg)\u001b[0m\n\u001b[1;32m    881\u001b[0m \u001b[38;5;250m\u001b[39m\u001b[38;5;124;03m\"\"\"Fail if the two objects are unequal as determined by the '=='\u001b[39;00m\n\u001b[1;32m    882\u001b[0m \u001b[38;5;124;03m   operator.\u001b[39;00m\n\u001b[1;32m    883\u001b[0m \u001b[38;5;124;03m\"\"\"\u001b[39;00m\n\u001b[1;32m    884\u001b[0m assertion_func \u001b[38;5;241m=\u001b[39m \u001b[38;5;28mself\u001b[39m\u001b[38;5;241m.\u001b[39m_getAssertEqualityFunc(first, second)\n\u001b[0;32m--> 885\u001b[0m assertion_func(first, second, msg\u001b[38;5;241m=\u001b[39mmsg)\n",
      "File \u001b[0;32m/opt/anaconda3/lib/python3.12/unittest/case.py:1227\u001b[0m, in \u001b[0;36mTestCase.assertMultiLineEqual\u001b[0;34m(self, first, second, msg)\u001b[0m\n\u001b[1;32m   1223\u001b[0m \u001b[38;5;28;01mif\u001b[39;00m first \u001b[38;5;241m!=\u001b[39m second:\n\u001b[1;32m   1224\u001b[0m     \u001b[38;5;66;03m# Don't use difflib if the strings are too long\u001b[39;00m\n\u001b[1;32m   1225\u001b[0m     \u001b[38;5;28;01mif\u001b[39;00m (\u001b[38;5;28mlen\u001b[39m(first) \u001b[38;5;241m>\u001b[39m \u001b[38;5;28mself\u001b[39m\u001b[38;5;241m.\u001b[39m_diffThreshold \u001b[38;5;129;01mor\u001b[39;00m\n\u001b[1;32m   1226\u001b[0m         \u001b[38;5;28mlen\u001b[39m(second) \u001b[38;5;241m>\u001b[39m \u001b[38;5;28mself\u001b[39m\u001b[38;5;241m.\u001b[39m_diffThreshold):\n\u001b[0;32m-> 1227\u001b[0m         \u001b[38;5;28mself\u001b[39m\u001b[38;5;241m.\u001b[39m_baseAssertEqual(first, second, msg)\n\u001b[1;32m   1229\u001b[0m     \u001b[38;5;66;03m# Append \\n to both strings if either is missing the \\n.\u001b[39;00m\n\u001b[1;32m   1230\u001b[0m     \u001b[38;5;66;03m# This allows the final ndiff to show the \\n difference. The\u001b[39;00m\n\u001b[1;32m   1231\u001b[0m     \u001b[38;5;66;03m# exception here is if the string is empty, in which case no\u001b[39;00m\n\u001b[1;32m   1232\u001b[0m     \u001b[38;5;66;03m# \\n should be added\u001b[39;00m\n\u001b[1;32m   1233\u001b[0m     first_presplit \u001b[38;5;241m=\u001b[39m first\n",
      "File \u001b[0;32m/opt/anaconda3/lib/python3.12/unittest/case.py:878\u001b[0m, in \u001b[0;36mTestCase._baseAssertEqual\u001b[0;34m(self, first, second, msg)\u001b[0m\n\u001b[1;32m    876\u001b[0m standardMsg \u001b[38;5;241m=\u001b[39m \u001b[38;5;124m'\u001b[39m\u001b[38;5;132;01m%s\u001b[39;00m\u001b[38;5;124m != \u001b[39m\u001b[38;5;132;01m%s\u001b[39;00m\u001b[38;5;124m'\u001b[39m \u001b[38;5;241m%\u001b[39m _common_shorten_repr(first, second)\n\u001b[1;32m    877\u001b[0m msg \u001b[38;5;241m=\u001b[39m \u001b[38;5;28mself\u001b[39m\u001b[38;5;241m.\u001b[39m_formatMessage(msg, standardMsg)\n\u001b[0;32m--> 878\u001b[0m \u001b[38;5;28;01mraise\u001b[39;00m \u001b[38;5;28mself\u001b[39m\u001b[38;5;241m.\u001b[39mfailureException(msg)\n",
      "\u001b[0;31mAssertionError\u001b[0m: '224224622422468224224622422468102242246224[17825744 chars]4648' != '24681012141618202224262830323436384042444648' : Your string is not the same as the expected one."
     ]
    }
   ],
   "source": [
    "# Test Cell. Do not modify!\n",
    "from unittest import TestCase\n",
    "test_case = TestCase()\n",
    "\n",
    "# Sanity check\n",
    "test_case.assertTrue('solution2' in locals(), msg='You must define the variable `solution2`.')\n",
    "test_case.assertIsInstance(solution2, str, msg='`solution2` must be a string.')\n",
    "test_case.assertTrue(len(solution2) > 0, msg='`solution2` does not contain any character.')\n",
    "\n",
    "# Common Mistakes\n",
    "test_case.assertFalse(solution2[0] == \"0\", msg=\"Your string starts wrongly with `0`.\")\n",
    "test_case.assertEqual(solution2[0], \"2\", msg=\"Your string must start with `2`.\")\n",
    "\n",
    "# Check if correct:\n",
    "test_case.assertEqual(\n",
    "    solution2,\n",
    "    '24681012141618202224262830323436384042444648',\n",
    "    msg='Your string is not the same as the expected one.'\n",
    ")\n",
    "\n",
    "\n",
    "print(\"\\n\\033[37;42;2m  Success! Your code works as intended.  \\033[0m\\n\")"
   ]
  },
  {
   "cell_type": "markdown",
   "metadata": {
    "id": "Mp3N7WR__Ucm"
   },
   "source": [
    "---\n",
    "## Task 3\n",
    "\n",
    "Write a `for` loop that creates a string containing the *digit sum* of number from `1000` to `2000` without spaces, starting at **1000**. (1000 inclusive, 2000 exclusive)\n",
    "Store the resulting string in the variable `solution3`.\n",
    "\n",
    "To calculate the _digit sum_, you sum up all individual digits in a number.\n",
    "\n",
    "An example for first five numbers:\n",
    "\n",
    "| Number  | Digit Sum    |\n",
    "| -------:|--------------:|\n",
    "| 1000       | 1 + 0 + 0 + 0 = 1 |\n",
    "| 1001       | 1 + 0 + 0 + 1 = 2 |\n",
    "| 1002       | 1 + 0 + 0 + 2 = 3 |\n",
    "| 1003      | 1 + 0 + 0 + 3 = 4|\n",
    "| 1004      | 1 + 0 + 0 + 4 = 5|\n",
    "\n",
    "The solution here would be the string `12345`. Calculate the digit sum of each number, **then** concatenate it to `solution3`.\n",
    "\n",
    "\n",
    "_Hint: Use the [`range()`](https://docs.python.org/3/library/stdtypes.html#range) function with the your specific parameters._\n",
    "\n",
    "_Hint: You can nest `for` loops (a loop within a loop)._\n",
    "\n",
    "_Hint: Keep in mind the different datatypes. This task will require a few back-and-forth conversions._"
   ]
  },
  {
   "cell_type": "code",
   "execution_count": 63,
   "metadata": {
    "executionInfo": {
     "elapsed": 228,
     "status": "ok",
     "timestamp": 1632322524515,
     "user": {
      "displayName": "Bernhard Bermeitinger",
      "photoUrl": "https://lh3.googleusercontent.com/a-/AOh14GivXxt0TLtU4UXyER4_cY1H5s03j1oHP80xcb4=s64",
      "userId": "00323182743818884824"
     },
     "user_tz": -120
    },
    "id": "6MAmX2-MAKCh"
   },
   "outputs": [],
   "source": [
    "# Add your code here\n",
    "\n",
    "### BEGIN SOLUTION\n",
    "solution3=\"\"\n",
    "for num_int in range (1000,2000):\n",
    "    digit_sum=0\n",
    "\n",
    "num_str=str(num_int)\n",
    "\n",
    "for digit_str in num_str:\n",
    "    digit_int=int(digit_str)\n",
    "    digit_sum=digit_sum+digit_int\n",
    "\n",
    "digit_sum_str=str(digit_sum)\n",
    "solution3=solution3+digit_sum_str\n",
    "\n",
    "### END SOLUTION"
   ]
  },
  {
   "cell_type": "code",
   "execution_count": 65,
   "metadata": {
    "colab": {
     "base_uri": "https://localhost:8080/"
    },
    "executionInfo": {
     "elapsed": 231,
     "status": "ok",
     "timestamp": 1632322598601,
     "user": {
      "displayName": "Bernhard Bermeitinger",
      "photoUrl": "https://lh3.googleusercontent.com/a-/AOh14GivXxt0TLtU4UXyER4_cY1H5s03j1oHP80xcb4=s64",
      "userId": "00323182743818884824"
     },
     "user_tz": -120
    },
    "id": "vh6r6MlVARKh",
    "outputId": "9698507c-3f0f-4960-8f83-e5eeae417d35"
   },
   "outputs": [
    {
     "ename": "AssertionError",
     "evalue": "'2' != '1'\n- 2\n+ 1\n : Your string must start with `1`.",
     "output_type": "error",
     "traceback": [
      "\u001b[0;31m---------------------------------------------------------------------------\u001b[0m",
      "\u001b[0;31mAssertionError\u001b[0m                            Traceback (most recent call last)",
      "Cell \u001b[0;32mIn[65], line 12\u001b[0m\n\u001b[1;32m     10\u001b[0m \u001b[38;5;66;03m# Common Mistakes\u001b[39;00m\n\u001b[1;32m     11\u001b[0m test_case\u001b[38;5;241m.\u001b[39massertFalse(solution3[\u001b[38;5;241m0\u001b[39m] \u001b[38;5;241m==\u001b[39m \u001b[38;5;124m\"\u001b[39m\u001b[38;5;124m0\u001b[39m\u001b[38;5;124m\"\u001b[39m, msg\u001b[38;5;241m=\u001b[39m\u001b[38;5;124m\"\u001b[39m\u001b[38;5;124mYour string starts with `0` (should start with `1`).\u001b[39m\u001b[38;5;124m\"\u001b[39m)\n\u001b[0;32m---> 12\u001b[0m test_case\u001b[38;5;241m.\u001b[39massertEqual(solution3[\u001b[38;5;241m0\u001b[39m], \u001b[38;5;124m\"\u001b[39m\u001b[38;5;124m1\u001b[39m\u001b[38;5;124m\"\u001b[39m, msg\u001b[38;5;241m=\u001b[39m\u001b[38;5;124m\"\u001b[39m\u001b[38;5;124mYour string must start with `1`.\u001b[39m\u001b[38;5;124m\"\u001b[39m)\n\u001b[1;32m     14\u001b[0m \u001b[38;5;66;03m# Full string\u001b[39;00m\n\u001b[1;32m     15\u001b[0m test_case\u001b[38;5;241m.\u001b[39massertEqual(\n\u001b[1;32m     16\u001b[0m     solution3,\n\u001b[1;32m     17\u001b[0m     \u001b[38;5;124m'\u001b[39m\u001b[38;5;124m12345678910234567891011345678910111245678910111213567891011121314678910111213141578910111213141516891011121314151617910111213141516171810111213141516171819234567891011345678910111245678910111213567891011121314678910111213141578910111213141516891011121314151617910111213141516171810111213141516171819111213141516171819203456789101112456789101112135678910111213146789101112131415789101112131415168910111213141516179101112131415161718101112131415161718191112131415161718192012131415161718192021456789101112135678910111213146789101112131415789101112131415168910111213141516179101112131415161718101112131415161718191112131415161718192012131415161718192021131415161718192021225678910111213146789101112131415789101112131415168910111213141516179101112131415161718101112131415161718191112131415161718192012131415161718192021131415161718192021221415161718192021222367891011121314157891011121314151689101112131415161791011121314151617181011121314151617181911121314151617181920121314151617181920211314151617181920212214151617181920212223151617181920212223247891011121314151689101112131415161791011121314151617181011121314151617181911121314151617181920121314151617181920211314151617181920212214151617181920212223151617181920212223241617181920212223242589101112131415161791011121314151617181011121314151617181911121314151617181920121314151617181920211314151617181920212214151617181920212223151617181920212223241617181920212223242517181920212223242526910111213141516171810111213141516171819111213141516171819201213141516171819202113141516171819202122141516171819202122231516171819202122232416171819202122232425171819202122232425261819202122232425262710111213141516171819111213141516171819201213141516171819202113141516171819202122141516171819202122231516171819202122232416171819202122232425171819202122232425261819202122232425262719202122232425262728\u001b[39m\u001b[38;5;124m'\u001b[39m,\n\u001b[1;32m     18\u001b[0m     msg\u001b[38;5;241m=\u001b[39m\u001b[38;5;124m\"\u001b[39m\u001b[38;5;124mYour solution3 is incorrect.\u001b[39m\u001b[38;5;124m\"\u001b[39m\n\u001b[1;32m     19\u001b[0m )\n",
      "File \u001b[0;32m/opt/anaconda3/lib/python3.12/unittest/case.py:885\u001b[0m, in \u001b[0;36mTestCase.assertEqual\u001b[0;34m(self, first, second, msg)\u001b[0m\n\u001b[1;32m    881\u001b[0m \u001b[38;5;250m\u001b[39m\u001b[38;5;124;03m\"\"\"Fail if the two objects are unequal as determined by the '=='\u001b[39;00m\n\u001b[1;32m    882\u001b[0m \u001b[38;5;124;03m   operator.\u001b[39;00m\n\u001b[1;32m    883\u001b[0m \u001b[38;5;124;03m\"\"\"\u001b[39;00m\n\u001b[1;32m    884\u001b[0m assertion_func \u001b[38;5;241m=\u001b[39m \u001b[38;5;28mself\u001b[39m\u001b[38;5;241m.\u001b[39m_getAssertEqualityFunc(first, second)\n\u001b[0;32m--> 885\u001b[0m assertion_func(first, second, msg\u001b[38;5;241m=\u001b[39mmsg)\n",
      "File \u001b[0;32m/opt/anaconda3/lib/python3.12/unittest/case.py:1251\u001b[0m, in \u001b[0;36mTestCase.assertMultiLineEqual\u001b[0;34m(self, first, second, msg)\u001b[0m\n\u001b[1;32m   1249\u001b[0m diff \u001b[38;5;241m=\u001b[39m \u001b[38;5;124m'\u001b[39m\u001b[38;5;130;01m\\n\u001b[39;00m\u001b[38;5;124m'\u001b[39m \u001b[38;5;241m+\u001b[39m \u001b[38;5;124m'\u001b[39m\u001b[38;5;124m'\u001b[39m\u001b[38;5;241m.\u001b[39mjoin(difflib\u001b[38;5;241m.\u001b[39mndiff(firstlines, secondlines))\n\u001b[1;32m   1250\u001b[0m standardMsg \u001b[38;5;241m=\u001b[39m \u001b[38;5;28mself\u001b[39m\u001b[38;5;241m.\u001b[39m_truncateMessage(standardMsg, diff)\n\u001b[0;32m-> 1251\u001b[0m \u001b[38;5;28mself\u001b[39m\u001b[38;5;241m.\u001b[39mfail(\u001b[38;5;28mself\u001b[39m\u001b[38;5;241m.\u001b[39m_formatMessage(msg, standardMsg))\n",
      "File \u001b[0;32m/opt/anaconda3/lib/python3.12/unittest/case.py:715\u001b[0m, in \u001b[0;36mTestCase.fail\u001b[0;34m(self, msg)\u001b[0m\n\u001b[1;32m    713\u001b[0m \u001b[38;5;28;01mdef\u001b[39;00m \u001b[38;5;21mfail\u001b[39m(\u001b[38;5;28mself\u001b[39m, msg\u001b[38;5;241m=\u001b[39m\u001b[38;5;28;01mNone\u001b[39;00m):\n\u001b[1;32m    714\u001b[0m \u001b[38;5;250m    \u001b[39m\u001b[38;5;124;03m\"\"\"Fail immediately, with the given message.\"\"\"\u001b[39;00m\n\u001b[0;32m--> 715\u001b[0m     \u001b[38;5;28;01mraise\u001b[39;00m \u001b[38;5;28mself\u001b[39m\u001b[38;5;241m.\u001b[39mfailureException(msg)\n",
      "\u001b[0;31mAssertionError\u001b[0m: '2' != '1'\n- 2\n+ 1\n : Your string must start with `1`."
     ]
    }
   ],
   "source": [
    "# Test Cell, Do not modify.\n",
    "from unittest import TestCase\n",
    "test_case = TestCase()\n",
    "\n",
    "# Sanity Check\n",
    "test_case.assertTrue('solution3' in locals(), msg=\"You must define the variable `solution3`.\")\n",
    "test_case.assertIsInstance(solution3, str, msg='`solution3` must be a string.')\n",
    "test_case.assertTrue(len(solution3) > 0, msg='`solution3` does not contain any character.')\n",
    "\n",
    "# Common Mistakes\n",
    "test_case.assertFalse(solution3[0] == \"0\", msg=\"Your string starts with `0` (should start with `1`).\")\n",
    "test_case.assertEqual(solution3[0], \"1\", msg=\"Your string must start with `1`.\")\n",
    "\n",
    "# Full string\n",
    "test_case.assertEqual(\n",
    "    solution3,\n",
    "    '12345678910234567891011345678910111245678910111213567891011121314678910111213141578910111213141516891011121314151617910111213141516171810111213141516171819234567891011345678910111245678910111213567891011121314678910111213141578910111213141516891011121314151617910111213141516171810111213141516171819111213141516171819203456789101112456789101112135678910111213146789101112131415789101112131415168910111213141516179101112131415161718101112131415161718191112131415161718192012131415161718192021456789101112135678910111213146789101112131415789101112131415168910111213141516179101112131415161718101112131415161718191112131415161718192012131415161718192021131415161718192021225678910111213146789101112131415789101112131415168910111213141516179101112131415161718101112131415161718191112131415161718192012131415161718192021131415161718192021221415161718192021222367891011121314157891011121314151689101112131415161791011121314151617181011121314151617181911121314151617181920121314151617181920211314151617181920212214151617181920212223151617181920212223247891011121314151689101112131415161791011121314151617181011121314151617181911121314151617181920121314151617181920211314151617181920212214151617181920212223151617181920212223241617181920212223242589101112131415161791011121314151617181011121314151617181911121314151617181920121314151617181920211314151617181920212214151617181920212223151617181920212223241617181920212223242517181920212223242526910111213141516171810111213141516171819111213141516171819201213141516171819202113141516171819202122141516171819202122231516171819202122232416171819202122232425171819202122232425261819202122232425262710111213141516171819111213141516171819201213141516171819202113141516171819202122141516171819202122231516171819202122232416171819202122232425171819202122232425261819202122232425262719202122232425262728',\n",
    "    msg=\"Your solution3 is incorrect.\"\n",
    ")\n",
    "\n",
    "print(\"\\n\\033[37;42;2m  Success! Your code works as intended.  \\033[0m\\n\")"
   ]
  },
  {
   "cell_type": "code",
   "execution_count": null,
   "metadata": {},
   "outputs": [],
   "source": []
  },
  {
   "cell_type": "code",
   "execution_count": null,
   "metadata": {},
   "outputs": [],
   "source": []
  }
 ],
 "metadata": {
  "colab": {
   "collapsed_sections": [],
   "name": "Assignment_02_Solution.ipynb",
   "provenance": []
  },
  "copyright": {
   "author": "Bernhard Bermeitinger",
   "email": "bernhard.bermeitinger@unisg.ch"
  },
  "kernelspec": {
   "display_name": "Python [conda env:base] *",
   "language": "python",
   "name": "conda-base-py"
  },
  "language_info": {
   "codemirror_mode": {
    "name": "ipython",
    "version": 3
   },
   "file_extension": ".py",
   "mimetype": "text/x-python",
   "name": "python",
   "nbconvert_exporter": "python",
   "pygments_lexer": "ipython3",
   "version": "3.12.7"
  },
  "toc-autonumbering": false,
  "toc-showcode": false
 },
 "nbformat": 4,
 "nbformat_minor": 4
}
